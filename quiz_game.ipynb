{
  "nbformat": 4,
  "nbformat_minor": 0,
  "metadata": {
    "colab": {
      "provenance": []
    },
    "kernelspec": {
      "name": "python3",
      "display_name": "Python 3"
    },
    "language_info": {
      "name": "python"
    }
  },
  "cells": [
    {
      "cell_type": "code",
      "execution_count": 1,
      "metadata": {
        "colab": {
          "base_uri": "https://localhost:8080/"
        },
        "id": "WfoXIB9Q1xN0",
        "outputId": "c5782719-1563-4674-d63f-b26119173746"
      },
      "outputs": [
        {
          "output_type": "stream",
          "name": "stdout",
          "text": [
            "What is 2 + 2?\n",
            "1. 3\n",
            "2. 4\n",
            "3. 5\n",
            "4. 6\n",
            "Enter the number of your answer: 2\n",
            "Correct!\n",
            "Which planet is known as the Red Planet?\n",
            "1. Earth\n",
            "2. Mars\n",
            "3. Jupiter\n",
            "4. Venus\n",
            "Enter the number of your answer: 2\n",
            "Correct!\n",
            "What is the capital of France?\n",
            "1. London\n",
            "2. Berlin\n",
            "3. Paris\n",
            "4. Madrid\n",
            "Enter the number of your answer: 1\n",
            "Wrong! The correct answer was: Paris\n",
            "\n",
            "Quiz finished! Your score is: 2/3\n"
          ]
        }
      ],
      "source": [
        "# prompt: give me a python code to genearte quiz game\n",
        "\n",
        "import random\n",
        "\n",
        "def generate_quiz(questions):\n",
        "  \"\"\"Generates a simple quiz game.\n",
        "\n",
        "  Args:\n",
        "    questions: A list of dictionaries, where each dictionary\n",
        "               contains 'question', 'options' (a list), and 'answer'.\n",
        "  \"\"\"\n",
        "  score = 0\n",
        "  random.shuffle(questions)\n",
        "\n",
        "  for q in questions:\n",
        "    print(q['question'])\n",
        "    for i, option in enumerate(q['options']):\n",
        "      print(f\"{i+1}. {option}\")\n",
        "\n",
        "    user_answer = input(\"Enter the number of your answer: \")\n",
        "    try:\n",
        "      user_answer_index = int(user_answer) - 1\n",
        "      if 0 <= user_answer_index < len(q['options']):\n",
        "        if q['options'][user_answer_index] == q['answer']:\n",
        "          print(\"Correct!\")\n",
        "          score += 1\n",
        "        else:\n",
        "          print(f\"Wrong! The correct answer was: {q['answer']}\")\n",
        "      else:\n",
        "        print(\"Invalid option. Moving to the next question.\")\n",
        "    except ValueError:\n",
        "      print(\"Invalid input. Please enter a number.\")\n",
        "\n",
        "  print(f\"\\nQuiz finished! Your score is: {score}/{len(questions)}\")\n",
        "\n",
        "# Example usage:\n",
        "quiz_questions = [\n",
        "  {\n",
        "    'question': \"What is the capital of France?\",\n",
        "    'options': [\"London\", \"Berlin\", \"Paris\", \"Madrid\"],\n",
        "    'answer': \"Paris\"\n",
        "  },\n",
        "  {\n",
        "    'question': \"What is 2 + 2?\",\n",
        "    'options': [\"3\", \"4\", \"5\", \"6\"],\n",
        "    'answer': \"4\"\n",
        "  },\n",
        "  {\n",
        "    'question': \"Which planet is known as the Red Planet?\",\n",
        "    'options': [\"Earth\", \"Mars\", \"Jupiter\", \"Venus\"],\n",
        "    'answer': \"Mars\"\n",
        "  }\n",
        "]\n",
        "\n",
        "if __name__ == \"__main__\":\n",
        "  generate_quiz(quiz_questions)\n"
      ]
    }
  ]
}